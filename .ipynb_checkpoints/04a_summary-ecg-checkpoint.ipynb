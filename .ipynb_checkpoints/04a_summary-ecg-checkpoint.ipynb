{
 "cells": [
  {
   "cell_type": "markdown",
   "metadata": {},
   "source": [
    "# Visualize ECG Data with Participant Trends\n",
    "This notebook processes ECG data to visualize average heart rate across different conditions and connects individual participant data points with distinguishable lines."
   ]
  },
  {
   "cell_type": "code",
   "execution_count": null,
   "metadata": {},
   "outputs": [],
   "source": [
    "# Import necessary libraries\n",
    "import os\n",
    "import pandas as pd\n",
    "import matplotlib.pyplot as plt\n",
    "import numpy as np"
   ]
  },
  {
   "cell_type": "markdown",
   "metadata": {},
   "source": [
    "## Load Data\n",
    "Load the `.csv` file containing the summary of ECG results."
   ]
  },
  {
   "cell_type": "code",
   "execution_count": null,
   "metadata": {},
   "outputs": [],
   "source": [
    "# Paths to folders\n",
    "results_folder = '/Users/erwin/Documents/ProjectPsychophysiologyData/results/'\n",
    "\n",
    "# Load the .csv file\n",
    "filename = results_folder + 'ecg_results.csv'\n",
    "results = pd.read_csv(filename)\n",
    "\n",
    "# Display the data\n",
    "results.head()"
   ]
  },
  {
   "cell_type": "markdown",
   "metadata": {},
   "source": [
    "## Filter Data by Condition\n",
    "Separate the data into `baseline`, `spiderhand`, and `spidervideo` conditions."
   ]
  },
  {
   "cell_type": "code",
   "execution_count": null,
   "metadata": {},
   "outputs": [],
   "source": [
    "# Filter rows for each condition\n",
    "baseline = results[results['Condition'] == 'baseline']\n",
    "spiderhand = results[results['Condition'] == 'spiderhand']\n",
    "spidervideo = results[results['Condition'] == 'spidervideo']\n",
    "\n",
    "# Calculate mean values for each condition\n",
    "conditions = ['Baseline', 'Spiderhand', 'Spidervideo']\n",
    "averages = [baseline['ECG_Rate_Mean'].mean(), \n",
    "            spiderhand['ECG_Rate_Mean'].mean(), \n",
    "            spidervideo['ECG_Rate_Mean'].mean()]\n",
    "\n",
    "# Display means\n",
    "averages"
   ]
  },
  {
   "cell_type": "markdown",
   "metadata": {},
   "source": [
    "## Define Plot Colors and Styles\n",
    "Set up color schemes, line styles, and marker styles for visualization."
   ]
  },
  {
   "cell_type": "code",
   "execution_count": null,
   "metadata": {},
   "outputs": [],
   "source": [
    "# Define colors and styles\n",
    "bar_colors = ['#fde725', '#21918c', '#440154']\n",
    "scatter_colors = ['#d4c100', '#187973', '#3b0f26']\n",
    "line_styles = ['-', '--', ':']  # Solid, dashed, dotted\n",
    "marker_styles = ['o', 's', '^']  # Circle, square, triangle"
   ]
  },
  {
   "cell_type": "markdown",
   "metadata": {},
   "source": [
    "## Create Plot\n",
    "Visualize the data using a bar chart with scatter plots and connect individual participant data points with distinct lines."
   ]
  },
  {
   "cell_type": "code",
   "execution_count": null,
   "metadata": {},
   "outputs": [],
   "source": [
    "# Create the plot\n",
    "fig, ax = plt.subplots(figsize=(6, 4))\n",
    "\n",
    "# Bar plot\n",
    "ax.bar(conditions, averages, color=bar_colors, width=0.3)\n",
    "\n",
    "# Plot participant data\n",
    "participants = results['Participant'].unique()\n",
    "\n",
    "for i, participant in enumerate(participants):\n",
    "    # Filter participant data\n",
    "    participant_data = results[results['Participant'] == participant]\n",
    "    participant_bpm = [\n",
    "        participant_data[participant_data['Condition'] == 'baseline']['ECG_Rate_Mean'].values[0],\n",
    "        participant_data[participant_data['Condition'] == 'spiderhand']['ECG_Rate_Mean'].values[0],\n",
    "        participant_data[participant_data['Condition'] == 'spidervideo']['ECG_Rate_Mean'].values[0]\n",
    "    ]\n",
    "    \n",
    "    # Plot lines and markers for participant\n",
    "    ax.plot(\n",
    "        conditions,\n",
    "        participant_bpm,\n",
    "        marker=marker_styles[i % len(marker_styles)], \n",
    "        linestyle=line_styles[i % len(line_styles)], \n",
    "        color='black', \n",
    "        label=participant,\n",
    "        alpha=0.8,\n",
    "        linewidth=1.5\n",
    "    )\n",
    "\n",
    "# Scatter plot for individual data points\n",
    "ax.scatter([0] * len(baseline), baseline['ECG_Rate_Mean'], \n",
    "           color=scatter_colors[0], s=60, alpha=0.7, zorder=5, edgecolor='white', linewidth=1.5)\n",
    "ax.scatter([1] * len(spiderhand), spiderhand['ECG_Rate_Mean'], \n",
    "           color=scatter_colors[1], s=60, alpha=0.7, zorder=5, edgecolor='white', linewidth=1.5)\n",
    "ax.scatter([2] * len(spidervideo), spidervideo['ECG_Rate_Mean'], \n",
    "           color=scatter_colors[2], s=60, alpha=0.7, zorder=5, edgecolor='white', linewidth=1.5)\n",
    "\n",
    "# Add labels, title, and legend\n",
    "ax.set_ylabel('Heart Rate (bpm)')\n",
    "ax.set_title('Average Heart Rate by Condition with Participant Trends')\n",
    "ax.legend(loc='upper right', bbox_to_anchor=(1.4, 1), title='Participants')\n",
    "\n",
    "# Add grid lines\n",
    "ax.grid(True, which='both', axis='y', linestyle='--', linewidth=0.7, color='gray', alpha=0.7)\n",
    "\n",
    "# Save the plot\n",
    "figure_filename = results_folder + 'ecg_summary_with_lines.png'\n",
    "plt.tight_layout()\n",
    "plt.subplots_adjust(right=0.7)\n",
    "plt.savefig(figure_filename, bbox_inches='tight', pad_inches=0.1)\n",
    "\n",
    "# Display the plot\n",
    "plt.show()"
   ]
  }
 ],
 "metadata": {
  "kernelspec": {
   "display_name": "Python 3",
   "language": "python",
   "name": "python3"
  },
  "language_info": {
   "codemirror_mode": {
    "name": "ipython",
    "version": 3
   },
   "file_extension": ".py",
   "mimetype": "text/x-python",
   "name": "python",
   "nbconvert_exporter": "python",
   "pygments_lexer": "ipython3",
   "version": "3.8.5"
  }
 },
 "nbformat": 4,
 "nbformat_minor": 4
}