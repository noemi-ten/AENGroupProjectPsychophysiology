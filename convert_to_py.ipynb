{
 "cells": [
  {
   "cell_type": "code",
   "execution_count": 2,
   "id": "dc76ce6b-992b-4ce0-bedd-ddad71512290",
   "metadata": {},
   "outputs": [
    {
     "name": "stderr",
     "output_type": "stream",
     "text": [
      "/Library/Frameworks/Python.framework/Versions/3.13/bin/jupyter-nbconvert:5: DeprecationWarning: Parsing dates involving a day of month without a year specified is ambiguious\n",
      "and fails to parse leap day. The default behavior will change in Python 3.15\n",
      "to either always raise an exception or to use a different default year (TBD).\n",
      "To avoid trouble, add a specific year to the input & format.\n",
      "See https://github.com/python/cpython/issues/70647.\n",
      "  from nbconvert.nbconvertapp import main\n",
      "[NbConvertApp] Converting notebook /Users/erwin/Documents/GitHub/AENGroupProjectPsychophysiology/03b_parameter-edaFAIL.ipynb to script\n",
      "[NbConvertApp] Writing 3282 bytes to /Users/erwin/Documents/GitHub/AENGroupProjectPsychophysiology/pyfiles/03b_parameter-edaFAIL.py\n",
      "/Library/Frameworks/Python.framework/Versions/3.13/bin/jupyter-nbconvert:5: DeprecationWarning: Parsing dates involving a day of month without a year specified is ambiguious\n",
      "and fails to parse leap day. The default behavior will change in Python 3.15\n",
      "to either always raise an exception or to use a different default year (TBD).\n",
      "To avoid trouble, add a specific year to the input & format.\n",
      "See https://github.com/python/cpython/issues/70647.\n",
      "  from nbconvert.nbconvertapp import main\n",
      "[NbConvertApp] Converting notebook /Users/erwin/Documents/GitHub/AENGroupProjectPsychophysiology/03b_neurokit-eda.ipynb to script\n",
      "[NbConvertApp] Writing 2758 bytes to /Users/erwin/Documents/GitHub/AENGroupProjectPsychophysiology/pyfiles/03b_neurokit-eda.py\n",
      "/Library/Frameworks/Python.framework/Versions/3.13/bin/jupyter-nbconvert:5: DeprecationWarning: Parsing dates involving a day of month without a year specified is ambiguious\n",
      "and fails to parse leap day. The default behavior will change in Python 3.15\n",
      "to either always raise an exception or to use a different default year (TBD).\n",
      "To avoid trouble, add a specific year to the input & format.\n",
      "See https://github.com/python/cpython/issues/70647.\n",
      "  from nbconvert.nbconvertapp import main\n",
      "[NbConvertApp] Converting notebook /Users/erwin/Documents/GitHub/AENGroupProjectPsychophysiology/02b_preprocess-eda.ipynb to script\n",
      "[NbConvertApp] Writing 2973 bytes to /Users/erwin/Documents/GitHub/AENGroupProjectPsychophysiology/pyfiles/02b_preprocess-eda.py\n",
      "/Library/Frameworks/Python.framework/Versions/3.13/bin/jupyter-nbconvert:5: DeprecationWarning: Parsing dates involving a day of month without a year specified is ambiguious\n",
      "and fails to parse leap day. The default behavior will change in Python 3.15\n",
      "to either always raise an exception or to use a different default year (TBD).\n",
      "To avoid trouble, add a specific year to the input & format.\n",
      "See https://github.com/python/cpython/issues/70647.\n",
      "  from nbconvert.nbconvertapp import main\n",
      "[NbConvertApp] Converting notebook /Users/erwin/Documents/GitHub/AENGroupProjectPsychophysiology/02a_preprocess-ecg.ipynb to script\n",
      "[NbConvertApp] Writing 4104 bytes to /Users/erwin/Documents/GitHub/AENGroupProjectPsychophysiology/pyfiles/02a_preprocess-ecg.py\n",
      "/Library/Frameworks/Python.framework/Versions/3.13/bin/jupyter-nbconvert:5: DeprecationWarning: Parsing dates involving a day of month without a year specified is ambiguious\n",
      "and fails to parse leap day. The default behavior will change in Python 3.15\n",
      "to either always raise an exception or to use a different default year (TBD).\n",
      "To avoid trouble, add a specific year to the input & format.\n",
      "See https://github.com/python/cpython/issues/70647.\n",
      "  from nbconvert.nbconvertapp import main\n",
      "[NbConvertApp] Converting notebook /Users/erwin/Documents/GitHub/AENGroupProjectPsychophysiology/04a_summary-ecg.ipynb to script\n",
      "[NbConvertApp] Writing 3392 bytes to /Users/erwin/Documents/GitHub/AENGroupProjectPsychophysiology/pyfiles/04a_summary-ecg.py\n"
     ]
    },
    {
     "name": "stdout",
     "output_type": "stream",
     "text": [
      "Skipping: convert_to_py.ipynb\n"
     ]
    },
    {
     "name": "stderr",
     "output_type": "stream",
     "text": [
      "/Library/Frameworks/Python.framework/Versions/3.13/bin/jupyter-nbconvert:5: DeprecationWarning: Parsing dates involving a day of month without a year specified is ambiguious\n",
      "and fails to parse leap day. The default behavior will change in Python 3.15\n",
      "to either always raise an exception or to use a different default year (TBD).\n",
      "To avoid trouble, add a specific year to the input & format.\n",
      "See https://github.com/python/cpython/issues/70647.\n",
      "  from nbconvert.nbconvertapp import main\n",
      "[NbConvertApp] Converting notebook /Users/erwin/Documents/GitHub/AENGroupProjectPsychophysiology/03a_neurokit-ecg.ipynb to script\n",
      "[NbConvertApp] Writing 4538 bytes to /Users/erwin/Documents/GitHub/AENGroupProjectPsychophysiology/pyfiles/03a_neurokit-ecg.py\n",
      "/Library/Frameworks/Python.framework/Versions/3.13/bin/jupyter-nbconvert:5: DeprecationWarning: Parsing dates involving a day of month without a year specified is ambiguious\n",
      "and fails to parse leap day. The default behavior will change in Python 3.15\n",
      "to either always raise an exception or to use a different default year (TBD).\n",
      "To avoid trouble, add a specific year to the input & format.\n",
      "See https://github.com/python/cpython/issues/70647.\n",
      "  from nbconvert.nbconvertapp import main\n",
      "[NbConvertApp] Converting notebook /Users/erwin/Documents/GitHub/AENGroupProjectPsychophysiology/01_import.ipynb to script\n",
      "[NbConvertApp] Writing 1615 bytes to /Users/erwin/Documents/GitHub/AENGroupProjectPsychophysiology/pyfiles/01_import.py\n",
      "/Library/Frameworks/Python.framework/Versions/3.13/bin/jupyter-nbconvert:5: DeprecationWarning: Parsing dates involving a day of month without a year specified is ambiguious\n",
      "and fails to parse leap day. The default behavior will change in Python 3.15\n",
      "to either always raise an exception or to use a different default year (TBD).\n",
      "To avoid trouble, add a specific year to the input & format.\n",
      "See https://github.com/python/cpython/issues/70647.\n",
      "  from nbconvert.nbconvertapp import main\n",
      "[NbConvertApp] Converting notebook /Users/erwin/Documents/GitHub/AENGroupProjectPsychophysiology/04b_summary-eda.ipynb to script\n",
      "[NbConvertApp] Writing 3240 bytes to /Users/erwin/Documents/GitHub/AENGroupProjectPsychophysiology/pyfiles/04b_summary-eda.py\n"
     ]
    }
   ],
   "source": [
    "import subprocess\n",
    "from pathlib import Path\n",
    "\n",
    "notebook_dir = Path().absolute()\n",
    "pyfiles_dir = notebook_dir / \"pyfiles\"\n",
    "pyfiles_dir.mkdir(exist_ok=True)\n",
    "\n",
    "for notebook in notebook_dir.glob(\"*.ipynb\"):\n",
    "    if notebook.name == \"convert_to_py.ipynb\":\n",
    "        print(f\"Skipping: {notebook.name}\")\n",
    "        continue\n",
    "    subprocess.run(\n",
    "        [\"jupyter\", \"nbconvert\", \"--to\", \"script\", \"--output\", str(pyfiles_dir / notebook.stem), str(notebook)]\n",
    "    )"
   ]
  },
  {
   "cell_type": "code",
   "execution_count": null,
   "id": "1aaefb18-70e0-4135-919a-3650cdc869be",
   "metadata": {},
   "outputs": [],
   "source": []
  }
 ],
 "metadata": {
  "kernelspec": {
   "display_name": "Python 3 (ipykernel)",
   "language": "python",
   "name": "python3"
  },
  "language_info": {
   "codemirror_mode": {
    "name": "ipython",
    "version": 3
   },
   "file_extension": ".py",
   "mimetype": "text/x-python",
   "name": "python",
   "nbconvert_exporter": "python",
   "pygments_lexer": "ipython3",
   "version": "3.13.0"
  }
 },
 "nbformat": 4,
 "nbformat_minor": 5
}
