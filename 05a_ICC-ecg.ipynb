{
 "cells": [
  {
   "cell_type": "code",
   "execution_count": 6,
   "id": "a686d8b6-938f-412a-b58f-876c6b28b895",
   "metadata": {},
   "outputs": [
    {
     "name": "stdout",
     "output_type": "stream",
     "text": [
      "                    sum_sq   df          F    PR(>F)\n",
      "C(Condition)     13.351951  2.0   0.620399  0.582539\n",
      "C(Participant)  262.883745  2.0  12.214912  0.019796\n",
      "Residual         43.043086  4.0        NaN       NaN\n",
      "Intraclass Correlation Coefficient (ICC): 0.8593\n",
      "ICC as a percentage: 85.93%\n",
      "The ICC indicates that 85.93% of the variability in mean ECG rates is due to differences between participants, rather than differences between conditions (within participants).\n"
     ]
    }
   ],
   "source": [
    "import pandas as pd\n",
    "import numpy as np\n",
    "import statsmodels.api as sm\n",
    "from statsmodels.formula.api import ols\n",
    "from statsmodels.stats.anova import anova_lm\n",
    "\n",
    "# Load your data (replace with your actual path)\n",
    "results_folder = '/Users/erwin/Documents/ProjectPsychophysiologyData/results/'\n",
    "filename = results_folder + 'ecg_results.csv'\n",
    "results = pd.read_csv(filename)\n",
    "\n",
    "# Ensure you have columns for participant, condition, and your measure (e.g., ECG_Rate_Mean)\n",
    "# Let's assume 'Condition' is your independent variable and 'ECG_Rate_Mean' is the dependent variable.\n",
    "\n",
    "# Fit the model: \n",
    "# We want to calculate ICC for 'ECG_Rate_Mean' for different 'Condition' and 'Participant' \n",
    "# Here, 'Condition' is fixed, and 'Participant' is random (subject effect).\n",
    "model = ols('ECG_Rate_Mean ~ C(Condition) + C(Participant)', data=results).fit()\n",
    "\n",
    "# Perform ANOVA to get variance components\n",
    "anova_table = anova_lm(model, typ=2)\n",
    "print(anova_table)\n",
    "\n",
    "# ICC is calculated as variance between participants / (variance between participants + variance within participants)\n",
    "# Get variance components from ANOVA table\n",
    "between_variance = anova_table['sum_sq']['C(Participant)']\n",
    "within_variance = anova_table['sum_sq']['Residual']\n",
    "\n",
    "# Calculate ICC\n",
    "icc = between_variance / (between_variance + within_variance)\n",
    "\n",
    "# Convert ICC to percentage\n",
    "icc_percentage = icc * 100\n",
    "\n",
    "# Print the ICC and its interpretation\n",
    "print(f\"Intraclass Correlation Coefficient (ICC): {icc:.4f}\")\n",
    "print(f\"ICC as a percentage: {icc_percentage:.2f}%\")\n",
    "\n",
    "# Interpretation sentence\n",
    "interpretation = (f\"The ICC indicates that {icc_percentage:.2f}% of the variability \"\n",
    "                  \"in mean ECG rates is due to differences between participants, rather than differences between conditions (within participants).\")\n",
    "\n",
    "print(interpretation)"
   ]
  },
  {
   "cell_type": "code",
   "execution_count": null,
   "id": "ee01140c-4faf-4bbe-a8fa-53ff56780f28",
   "metadata": {},
   "outputs": [],
   "source": []
  }
 ],
 "metadata": {
  "kernelspec": {
   "display_name": "Python 3 (ipykernel)",
   "language": "python",
   "name": "python3"
  },
  "language_info": {
   "codemirror_mode": {
    "name": "ipython",
    "version": 3
   },
   "file_extension": ".py",
   "mimetype": "text/x-python",
   "name": "python",
   "nbconvert_exporter": "python",
   "pygments_lexer": "ipython3",
   "version": "3.13.0"
  }
 },
 "nbformat": 4,
 "nbformat_minor": 5
}
